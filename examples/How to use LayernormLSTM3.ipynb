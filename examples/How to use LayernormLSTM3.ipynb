{
 "cells": [
  {
   "cell_type": "markdown",
   "metadata": {},
   "source": [
    "# Load packages"
   ]
  },
  {
   "cell_type": "code",
   "execution_count": 1,
   "metadata": {
    "ExecuteTime": {
     "end_time": "2018-09-18T08:12:38.232692Z",
     "start_time": "2018-09-18T08:12:38.223700Z"
    }
   },
   "outputs": [],
   "source": [
    "import sys\n",
    "sys.path.append('..')"
   ]
  },
  {
   "cell_type": "code",
   "execution_count": 2,
   "metadata": {
    "ExecuteTime": {
     "end_time": "2018-09-18T08:12:38.249524Z",
     "start_time": "2018-09-18T08:12:38.237886Z"
    }
   },
   "outputs": [],
   "source": [
    "import numpy as np\n",
    "from tensorflow.keras.models import Sequential\n",
    "from keras_layernorm_rnn import LayernormLSTM3\n",
    "\n",
    "import pprint\n",
    "pp = pprint.PrettyPrinter(indent=2)"
   ]
  },
  {
   "cell_type": "markdown",
   "metadata": {},
   "source": [
    "# Parameters"
   ]
  },
  {
   "cell_type": "code",
   "execution_count": 3,
   "metadata": {},
   "outputs": [],
   "source": [
    "num_samples = 2\n",
    "timesteps = 3\n",
    "embedding_dim = 4\n",
    "units = 2"
   ]
  },
  {
   "cell_type": "markdown",
   "metadata": {},
   "source": [
    "# Create dataset"
   ]
  },
  {
   "cell_type": "code",
   "execution_count": 4,
   "metadata": {},
   "outputs": [],
   "source": [
    "x = np.random.random((num_samples, timesteps, embedding_dim))\n",
    "y = np.random.random((num_samples, units))"
   ]
  },
  {
   "cell_type": "markdown",
   "metadata": {},
   "source": [
    "# Modeling"
   ]
  },
  {
   "cell_type": "code",
   "execution_count": 5,
   "metadata": {},
   "outputs": [],
   "source": [
    "model = Sequential([\n",
    "     LayernormLSTM3(\n",
    "         units, \n",
    "         use_layernorm=True,\n",
    "         use_gamma=True,\n",
    "         input_shape=(None, embedding_dim))\n",
    "])\n",
    "\n",
    "model.compile('rmsprop', 'mse')"
   ]
  },
  {
   "cell_type": "markdown",
   "metadata": {},
   "source": [
    "# Training"
   ]
  },
  {
   "cell_type": "code",
   "execution_count": 6,
   "metadata": {},
   "outputs": [
    {
     "name": "stdout",
     "output_type": "stream",
     "text": [
      "Train on 2 samples\n",
      "2/2 [==============================] - 6s 3s/sample - loss: 0.1929\n"
     ]
    },
    {
     "data": {
      "text/plain": [
       "<tensorflow.python.keras.callbacks.History at 0x138398550>"
      ]
     },
     "execution_count": 6,
     "metadata": {},
     "output_type": "execute_result"
    }
   ],
   "source": [
    "model.fit(x, y, verbose=1)"
   ]
  },
  {
   "cell_type": "markdown",
   "metadata": {},
   "source": [
    "# Results"
   ]
  },
  {
   "cell_type": "code",
   "execution_count": 7,
   "metadata": {},
   "outputs": [
    {
     "name": "stdout",
     "output_type": "stream",
     "text": [
      "Model: \"sequential\"\n",
      "_________________________________________________________________\n",
      "Layer (type)                 Output Shape              Param #   \n",
      "=================================================================\n",
      "layernorm_lst_m3 (LayernormL (None, 2)                 64        \n",
      "=================================================================\n",
      "Total params: 64\n",
      "Trainable params: 64\n",
      "Non-trainable params: 0\n",
      "_________________________________________________________________\n",
      "None\n"
     ]
    }
   ],
   "source": [
    "print(model.summary())"
   ]
  },
  {
   "cell_type": "code",
   "execution_count": 8,
   "metadata": {},
   "outputs": [
    {
     "data": {
      "text/plain": [
       "[array([1.0031623 , 0.99683774], dtype=float32),\n",
       " array([0.99683785, 1.0031604 ], dtype=float32),\n",
       " array([1.0031623, 1.0031621], dtype=float32),\n",
       " array([0.99683774, 1.003162  ], dtype=float32)]"
      ]
     },
     "execution_count": 8,
     "metadata": {},
     "output_type": "execute_result"
    }
   ],
   "source": [
    "# the scaling parameters for each multiplication (gamma)\n",
    "model.layers[0].cell.get_weights()[12:]"
   ]
  },
  {
   "cell_type": "code",
   "execution_count": 9,
   "metadata": {},
   "outputs": [],
   "source": [
    "#cfg = model.layers[0].cell.get_config()\n",
    "#pp.pprint(cfg)"
   ]
  },
  {
   "cell_type": "code",
   "execution_count": 10,
   "metadata": {},
   "outputs": [
    {
     "name": "stdout",
     "output_type": "stream",
     "text": [
      "{ 'layers': [ { 'class_name': 'LayernormLSTM3',\n",
      "                'config': { 'activation': 'tanh',\n",
      "                            'batch_input_shape': (None, None, 4),\n",
      "                            'bias_constraint': None,\n",
      "                            'bias_initializer': { 'class_name': 'Zeros',\n",
      "                                                  'config': {}},\n",
      "                            'bias_regularizer': None,\n",
      "                            'dropout': 0.0,\n",
      "                            'dtype': 'float32',\n",
      "                            'gamma_constraint': None,\n",
      "                            'gamma_initializer': { '__passive_serialization__': True,\n",
      "                                                   'class_name': 'Ones',\n",
      "                                                   'config': {}},\n",
      "                            'gamma_regularizer': None,\n",
      "                            'go_backwards': False,\n",
      "                            'implementation': 1,\n",
      "                            'kernel_constraint': None,\n",
      "                            'kernel_initializer': { 'class_name': 'GlorotUniform',\n",
      "                                                    'config': {'seed': None}},\n",
      "                            'kernel_regularizer': None,\n",
      "                            'layernorm_epsilon': 1e-05,\n",
      "                            'name': 'layernorm_lst_m3',\n",
      "                            'recurrent_activation': 'hard_sigmoid',\n",
      "                            'recurrent_constraint': None,\n",
      "                            'recurrent_dropout': 0.0,\n",
      "                            'recurrent_initializer': { 'class_name': 'Orthogonal',\n",
      "                                                       'config': { 'gain': 1.0,\n",
      "                                                                   'seed': None}},\n",
      "                            'recurrent_regularizer': None,\n",
      "                            'return_sequences': False,\n",
      "                            'return_state': False,\n",
      "                            'stateful': False,\n",
      "                            'time_major': False,\n",
      "                            'trainable': True,\n",
      "                            'unit_forget_bias': True,\n",
      "                            'units': 2,\n",
      "                            'unroll': False,\n",
      "                            'use_bias': True,\n",
      "                            'use_gamma': True,\n",
      "                            'use_layernorm': True}}],\n",
      "  'name': 'sequential'}\n"
     ]
    }
   ],
   "source": [
    "cfg = model.get_config()\n",
    "pp.pprint(cfg)"
   ]
  },
  {
   "cell_type": "code",
   "execution_count": null,
   "metadata": {},
   "outputs": [],
   "source": []
  }
 ],
 "metadata": {
  "kernelspec": {
   "display_name": "Python 3",
   "language": "python",
   "name": "python3"
  },
  "language_info": {
   "codemirror_mode": {
    "name": "ipython",
    "version": 3
   },
   "file_extension": ".py",
   "mimetype": "text/x-python",
   "name": "python",
   "nbconvert_exporter": "python",
   "pygments_lexer": "ipython3",
   "version": "3.7.6"
  },
  "toc": {
   "base_numbering": 1,
   "nav_menu": {},
   "number_sections": true,
   "sideBar": true,
   "skip_h1_title": false,
   "title_cell": "Table of Contents",
   "title_sidebar": "Contents",
   "toc_cell": false,
   "toc_position": {},
   "toc_section_display": true,
   "toc_window_display": false
  },
  "varInspector": {
   "cols": {
    "lenName": 16,
    "lenType": 16,
    "lenVar": 40
   },
   "kernels_config": {
    "python": {
     "delete_cmd_postfix": "",
     "delete_cmd_prefix": "del ",
     "library": "var_list.py",
     "varRefreshCmd": "print(var_dic_list())"
    },
    "r": {
     "delete_cmd_postfix": ") ",
     "delete_cmd_prefix": "rm(",
     "library": "var_list.r",
     "varRefreshCmd": "cat(var_dic_list()) "
    }
   },
   "types_to_exclude": [
    "module",
    "function",
    "builtin_function_or_method",
    "instance",
    "_Feature"
   ],
   "window_display": false
  }
 },
 "nbformat": 4,
 "nbformat_minor": 4
}
